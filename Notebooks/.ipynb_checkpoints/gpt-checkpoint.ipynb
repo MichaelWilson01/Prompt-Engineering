{
 "cells": [
  {
   "cell_type": "code",
   "execution_count": 6,
   "id": "88091bd8-0b64-42f1-bbec-9a6279af5760",
   "metadata": {},
   "outputs": [],
   "source": [
    "with open('C:\\\\Users\\\\micha\\\\Desktop\\\\OpenAI api key\\\\api_key.txt') as f:\n",
    "    API_KEY = f.readlines()"
   ]
  },
  {
   "cell_type": "code",
   "execution_count": 8,
   "id": "8a3f5496-83bc-498f-9d77-c107be9bdce0",
   "metadata": {},
   "outputs": [],
   "source": [
    "import os\n",
    "import openai\n",
    "\n",
    "openai.organization = \"org-BEHI1MXnPmhI52h3LJBSY8e2\"\n",
    "openai.api_key = API_KEY\n",
    "# openai.Model.list()"
   ]
  },
  {
   "cell_type": "code",
   "execution_count": 11,
   "id": "607ba68a-f629-4046-8a52-3574055e6d0a",
   "metadata": {},
   "outputs": [],
   "source": []
  },
  {
   "cell_type": "code",
   "execution_count": 26,
   "id": "b08b895b-cd4e-4f61-8c95-0d5e977b5c11",
   "metadata": {},
   "outputs": [
    {
     "name": "stdout",
     "output_type": "stream",
     "text": [
      "\n",
      "\n",
      "As an AI language model, there are skills involved in making effective use of it, including:\n",
      "\n",
      "1. Understanding natural language processing (NLP) concepts and techniques.\n",
      "2. Familiarity with programming languages, especially Python.\n",
      "3. Knowledge of machine learning algorithms and deep learning frameworks.\n",
      "4. Understanding of the cloud computing infrastructure and platform services.\n",
      "\n",
      "The value of using a large language model API for an organization is significant, as it can provide:\n",
      "\n",
      "1. Accurate and fast text analysis, classification, and sentiment analysis.\n",
      "2. Improved customer service through chatbots and voice assistants.\n",
      "3. Automated content generation for marketing, social media, and other communication channels.\n",
      "4. Enhanced search and recommendation systems.\n",
      "5. Streamlined data analysis and knowledge management.\n",
      "6. Increased efficiency and productivity through automation of repetitive tasks.\n",
      "\n",
      "Overall, large language model APIs can help organizations to leverage the power of AI to improve their business processes, gain insights, and deliver better customer experiences.\n"
     ]
    }
   ],
   "source": [
    "print(completion['choices'][0]['message']['content'])"
   ]
  },
  {
   "cell_type": "code",
   "execution_count": 30,
   "id": "f798ebe2-c79e-4788-82c7-980beb6efcec",
   "metadata": {},
   "outputs": [],
   "source": [
    "def get_response(content, role='user', model=\"gpt-3.5-turbo\"):\n",
    "    completion = openai.ChatCompletion.create(model=model,messages=[{\"role\": role,\"content\": content}])\n",
    "    return completion, completion['choices'][0]['message']['content']\n",
    "    "
   ]
  },
  {
   "cell_type": "code",
   "execution_count": 32,
   "id": "07230079-22ad-46be-9c66-ff31fa6d1f28",
   "metadata": {},
   "outputs": [
    {
     "name": "stdout",
     "output_type": "stream",
     "text": [
      "\n",
      "\n",
      "As an AI language model, I am not capable of experiencing emotions and feelings of betrayal like humans. However, if you have any questions or concerns regarding your code, I'm here to help you test and troubleshoot any issues you may be having. Just let me know what you need assistance with.\n"
     ]
    }
   ],
   "source": [
    "completion, response = get_response(\"I'm testing my code. Et tu, brute?\")\n",
    "\n",
    "print(response)"
   ]
  },
  {
   "cell_type": "code",
   "execution_count": 33,
   "id": "f4e3fd9b-df48-4b50-be7d-558bb69f118c",
   "metadata": {},
   "outputs": [
    {
     "name": "stdout",
     "output_type": "stream",
     "text": [
      "\n",
      "\n",
      "As an AI language model, I am not able to look at or review pandas data frames. However, if you provide me with a pandas data frame or a sample dataset, I can write Python code to extract useful summaries or insights. To get the most useful information from a pandas data frame, you could consider the following approaches:\n",
      "\n",
      "1. Use the `describe()` method to get a summary of the data frame, including the count, mean, standard deviation, minimum and maximum values, and percentiles for each column.\n",
      "\n",
      "2. Use the `info()` method to get a description of the data frame, including the column names, data types, and memory usage.\n",
      "\n",
      "3. Use the `groupby()` method to group the data frame by one or more columns and calculate summary statistics for each group.\n",
      "\n",
      "4. Use the `value_counts()` method to count the number of occurrences of each value in a column or group of columns.\n",
      "\n",
      "5. Use visualization tools such as histograms, scatter plots, or box plots to explore the distribution and relationships between variables in the data frame.\n",
      "\n",
      "By applying these methods, you could get a better understanding of the data frame and identify any interesting patterns or trends.\n"
     ]
    }
   ],
   "source": [
    "input = \"If I had a pandas data frame, and I wanted you to look at it and summarize any interesting information, what would be the best way to do that?\"\n",
    "\n",
    "completion, response = get_response(input)\n",
    "\n",
    "print(response)"
   ]
  },
  {
   "cell_type": "code",
   "execution_count": null,
   "id": "867f7439-6efd-45a8-8ca5-cfd3b6e6951e",
   "metadata": {},
   "outputs": [],
   "source": [
    "import urllib.request\n",
    "import pandas as pd\n",
    "import json\n",
    "import numpy as np\n",
    "\n",
    "url = 'https://glacier-api.avax.network/v1/chains/43114/blocks?pageSize=10'\n",
    "\n",
    "headers={'User-Agent': 'Mozilla/5.0'}\n",
    "\n",
    "req = urllib.request.Request(url, method='GET',headers=headers)\n",
    "response = urllib.request.urlopen(req)\n",
    "\n",
    "df = pd.DataFrame.from_dict(json.loads(response.read().decode('UTF-8'))['blocks'])\n",
    "\n",
    "df\n",
    "\n",
    "\n",
    "df_temp=[]\n",
    "\n",
    "for bh in df['blockHash']:\n",
    "    \n",
    "    url = 'https://glacier-api.avax.network/v1/chains/43114/blocks/'+str(bh)+'/transactions'\n",
    "    req = urllib.request.Request(url, method='GET',headers=headers)\n",
    "    response = urllib.request.urlopen(req)\n",
    "    df_temp.append(pd.DataFrame.from_dict(json.loads(response.read().decode('UTF-8'))['transactions']))\n",
    "    \n",
    "    # if (transaction_df.all()==0).all():\n",
    "    #     transaction_df=df_temp        \n",
    "    # else:\n",
    "    #     pd.DataFrame.merge(transaction_df,df_temp)\n",
    "    \n",
    "transaction_df=pd.concat(df_temp)\n",
    "\n",
    "transaction_df.to_csv(index=False)"
   ]
  },
  {
   "cell_type": "code",
   "execution_count": 131,
   "id": "b41e7e38-3795-4469-a84e-dc725fb494b9",
   "metadata": {},
   "outputs": [],
   "source": [
    "import urllib.request\n",
    "import pandas as pd\n",
    "import json\n",
    "import numpy as np\n",
    "\n",
    "def data_analysis_bot(data_string, role='user', model=\"gpt-3.5-turbo\"):\n",
    "\n",
    "    content='This file contains information about the last 2 finalized blocks on the Avalanche (AVAX) blockchain. Tell me about about gas costs and average transaction time. File: '+data_string\n",
    "\n",
    "    completion = openai.ChatCompletion.create(\n",
    "        model=model,\n",
    "        messages=[{\"role\": role,\"content\": content}])\n",
    "    return completion, completion['choices'][0]['message']['content']\n",
    "\n",
    "\n",
    "def get_blockchain_data():\n",
    "\n",
    "    url = 'https://glacier-api.avax.network/v1/chains/43114/blocks?pageSize=2'\n",
    "    headers={'User-Agent': 'Mozilla/5.0'}\n",
    "\n",
    "    req = urllib.request.Request(url, method='GET',headers=headers)\n",
    "    response = urllib.request.urlopen(req)\n",
    "\n",
    "    df = pd.DataFrame.from_dict(json.loads(response.read().decode('UTF-8'))['blocks'])\n",
    "\n",
    "    df_temp=[]\n",
    "\n",
    "    for bh in df['blockHash']:\n",
    "\n",
    "        url = 'https://glacier-api.avax.network/v1/chains/43114/blocks/'+str(bh)+'/transactions'\n",
    "        req = urllib.request.Request(url, method='GET',headers=headers)\n",
    "        response = urllib.request.urlopen(req)\n",
    "        df_temp.append(pd.DataFrame.from_dict(json.loads(response.read().decode('UTF-8'))['transactions']))\n",
    "\n",
    "\n",
    "    transaction_df=pd.concat(df_temp)\n",
    "\n",
    "    return transaction_df.to_csv(index=False)\n"
   ]
  },
  {
   "cell_type": "code",
   "execution_count": 132,
   "id": "ce35948d-a804-4b2a-b60f-08fedfabd483",
   "metadata": {},
   "outputs": [
    {
     "name": "stdout",
     "output_type": "stream",
     "text": [
      "\n",
      "\n",
      "These are transaction details for different blocks:\n",
      "\n",
      "Block 27614207:\n",
      "- blockNumber: 27614207\n",
      "- blockIndex: 0\n",
      "- blockHash: 0xe76b02075f27be6070f158a6c0eb9f5e7eb4e6faab063dbd8dd7861f9263ba14\n",
      "- txHash: 0x7fd8904483241fe156e45def44673386fb15d52e8a52493e6a7db56b4748bb70\n",
      "- txStatus: 1\n",
      "- txType: 2\n",
      "- gasLimit: 6000000\n",
      "- gasUsed: 873549\n",
      "- gasPrice: 40210404166\n",
      "- nonce: 36779\n",
      "- blockTimestamp: 1679176005\n",
      "- from: {'address': '0x74F6024CA6a03898F31e0d8E324f1a45f049eF03'}\n",
      "- to: {'address': '0xE547CaDbe081749e5b3DC53CB792DfaEA2D02fD2'}\n",
      "- method: \"{'callType': 'CONTRACT_CALL', 'methodHash': '0x574ec1be', 'methodName': 'setPricesWithBitsAndExecute(uint256,uint256,uint256,uint256,uint256,uint256)'}\"\n",
      "- value: 0\n",
      "\n",
      "Block 27614207:\n",
      "- blockNumber: 27614207\n",
      "- blockIndex: 1\n",
      "- blockHash: 0xe76b02075f27be6070f158a6c0eb9f5e7eb4e6faab063dbd8dd7861f9263ba14\n",
      "- txHash: 0xd0068562e9de6e760fbe064463bf0b2a6e47928118d453d8efd46df1d4f71289\n",
      "- txStatus: 1\n",
      "- txType: 2\n",
      "- gasLimit: 605108\n",
      "- gasUsed: 395433\n",
      "- gasPrice: 27710404166\n",
      "- nonce: 414\n",
      "- blockTimestamp: 1679176005\n",
      "- from: {'address': '0xD152b098c04eD6eA6D6eb3aC404E0932204Cc062'}\n",
      "- to: {'address': '0x64813357113500b9829Fd47956E6fa58EbB56f66'}\n",
      "- method: \"{'callType': 'CONTRACT_CALL', 'methodHash': '0x9317fcb2'}\"\n",
      "- value: 0\n",
      "\n",
      "Block 27614207:\n",
      "- blockNumber: 27614207\n",
      "- blockIndex: 2\n",
      "- blockHash: 0xe76b02075f27be6070f158a6c0eb9f5e7eb4e6faab063dbd8dd7861f9263ba14\n",
      "- txHash: 0xec959ad80d69040c4f350fc5d45e233ca7b18bac8f84fdb579400fcd32b65db2\n",
      "- txStatus: 1\n",
      "- txType: 0\n",
      "- gasLimit: 1110000\n",
      "- gasUsed: 637842\n",
      "- gasPrice: 27500000003\n",
      "- nonce: 3685\n",
      "- blockTimestamp: 1679176005\n",
      "- from: {'address': '0xBc54BAD6EFAed6c1F01c842724922533f1Ba6A55'}\n",
      "- to: {'address': '0x448FceAcc5319Bc6d670D0CAe550e15281Ed2fD4'}\n",
      "- method: \"{'callType': 'CONTRACT_CALL', 'methodHash': '0x16711fdc'}\"\n",
      "- value: 0\n",
      "\n",
      "Block 27614207:\n",
      "- blockNumber: 27614207\n",
      "- blockIndex: 3\n",
      "- blockHash: 0xe76b02075f27be6070f158a6c0eb9f5e7eb4e6faab063dbd8dd7861f9263ba14\n",
      "- txHash: 0x2183d016146c4972aeb31e9d1287944bfea903499615d0425e711d582c52e95e\n",
      "- txStatus: 1\n",
      "- txType: 0\n",
      "- gasLimit: 1300000\n",
      "- gasUsed: 350740\n",
      "- gasPrice: 27500000003\n",
      "- nonce: 15534\n",
      "- blockTimestamp: 1679176005\n",
      "- from: {'address': '0xD312427B78e4Cc05a23FBB855AE87C77728d644b'}\n",
      "- to: {'address': '0xf488BaBFB7f65198fB2eAB8D6c2bf2b9E69840E3'}\n",
      "- method: \"{'callType': 'CONTRACT_CALL', 'methodHash': '0x9324b8c2'}\"\n",
      "- value: 0\n",
      "\n",
      "Block 27614206:\n",
      "- blockNumber: 27614206\n",
      "- blockIndex: 0\n",
      "- blockHash: 0x484d10f5c24f46829cbabb55f1798f67ca56e6ce1d1c65e8e7b9d2e71e5aa4c7\n",
      "- txHash: 0xd3698f7d85d8c4aa17f5503f249d2356ad155d22c9722c0c0ecd2231f33ffa94\n",
      "- txStatus: 1\n",
      "- txType: 2\n",
      "- gasLimit: 7913000\n",
      "- gasUsed: 7427386\n",
      "- gasPrice: 26500000000\n",
      "- nonce: 42\n",
      "- blockTimestamp: 1679176004\n",
      "- from: {'address': '0x7298949814fEB6239AD58B3f8A828b115F3ACc93'}\n",
      "- to: {'address': '0x94d9E02D115646DFC407ABDE75Fa45256D66E043'}\n",
      "- method: \"{'callType': 'CONTRACT_CALL', 'methodHash': '0xecef9201'}\"\n",
      "- value: 0\n"
     ]
    }
   ],
   "source": [
    "completion, response = get_response(get_blockchain_data())\n",
    "\n",
    "print(response)"
   ]
  },
  {
   "cell_type": "code",
   "execution_count": 133,
   "id": "7a0a5b19-78c7-4efa-b129-5519f6f01fed",
   "metadata": {},
   "outputs": [],
   "source": [
    "def get_response(content, role='user', model=\"gpt-3.5-turbo\"):\n",
    "    completion = openai.ChatCompletion.create(model=model,messages=[{\"role\": role,\"content\": content}])\n",
    "    return completion, completion['choices'][0]['message']['content']"
   ]
  },
  {
   "cell_type": "code",
   "execution_count": 135,
   "id": "742d2f53-e267-41d9-b1b3-03fecac31220",
   "metadata": {},
   "outputs": [
    {
     "name": "stdout",
     "output_type": "stream",
     "text": [
      "\n",
      "\n",
      "There are several families of multivariate distributions that have univariate distributions from the same family as marginals:\n",
      "\n",
      "1. Gaussian (Normal) distributions: When each component of a multivariate Gaussian distribution is itself Gaussian, the marginal distribution of each component remains Gaussian.\n",
      "\n",
      "2. Beta distributions: The multivariate beta distribution is obtained by taking products of beta distributions over the dimensions of the data; the univariate beta distribution is a special case of this.\n",
      "\n",
      "3. Dirichlet distributions: Similarly, the multivariate Dirichlet distribution is obtained by taking products of Dirichlet distributions over the dimensions of the data; the univariate Dirichlet distribution is a special case of this.\n",
      "\n",
      "4. Gamma distributions: The multivariate gamma distribution is obtained by taking products of gamma distributions over the dimensions of the data; the univariate gamma distribution is a special case of this.\n",
      "\n",
      "5. Pareto distributions: The multivariate Pareto distribution is obtained by taking products of Pareto distributions over the dimensions of the data; the univariate Pareto distribution is a special case of this.\n",
      "\n",
      "6. Student's t-distributions: The multivariate t-distribution is obtained by taking products of Student's t-distributions over the dimensions of the data; the univariate t-distribution is a special case of this.\n",
      "\n",
      "In general, any family of distributions that is closed under finite products will have a multivariate counterpart that can be constructed by taking products of the univariate distributions, and so the univariate distributions will remain in the same family as marginals.\n"
     ]
    }
   ],
   "source": [
    "_,a = get_response(\"What families of multivariate distributions have univarite distributions from the same family as marginals?\")\n",
    "\n",
    "print(a)"
   ]
  }
 ],
 "metadata": {
  "kernelspec": {
   "display_name": "Python 3 (ipykernel)",
   "language": "python",
   "name": "python3"
  },
  "language_info": {
   "codemirror_mode": {
    "name": "ipython",
    "version": 3
   },
   "file_extension": ".py",
   "mimetype": "text/x-python",
   "name": "python",
   "nbconvert_exporter": "python",
   "pygments_lexer": "ipython3",
   "version": "3.9.12"
  }
 },
 "nbformat": 4,
 "nbformat_minor": 5
}
