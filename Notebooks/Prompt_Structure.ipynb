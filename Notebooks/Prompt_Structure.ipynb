{
 "cells": [
  {
   "cell_type": "markdown",
   "id": "f4a5e3db-4f3e-4a78-b7de-58c5d4410a60",
   "metadata": {},
   "source": [
    "<font size=\"5\">Prompt Templates</font>\n",
    "\n",
    "When using LLM's for specific tasks, we will often want to impose certain structures on our prompts. In LangChain, these are referred to as $prompt \\ templates$.\n",
    "\n",
    "Prompt templates can be used to \n",
    "- simplify user input\n",
    "- increase consistency of outputs\n",
    "- encourage formats for outputs"
   ]
  },
  {
   "cell_type": "code",
   "execution_count": 1,
   "id": "1157a89c-f639-4144-a44b-aa6b2163c6ea",
   "metadata": {},
   "outputs": [
    {
     "data": {
      "text/plain": [
       "'\\nI want you to act as a naming consultant for new companies.\\nWhat is a good name for a company that makes colorful socks?\\n'"
      ]
     },
     "execution_count": 1,
     "metadata": {},
     "output_type": "execute_result"
    }
   ],
   "source": [
    "from langchain import PromptTemplate\n",
    "\n",
    "template = \"\"\"\n",
    "I want you to act as a naming consultant for new companies.\n",
    "What is a good name for a company that makes {product}?\n",
    "\"\"\"\n",
    "\n",
    "prompt = PromptTemplate(\n",
    "    input_variables=[\"product\"],\n",
    "    template=template,\n",
    ")\n",
    "prompt.format(product=\"colorful socks\")\n",
    "# -> I want you to act as a naming consultant for new companies.\n",
    "# -> What is a good name for a company that makes colorful socks?"
   ]
  },
  {
   "cell_type": "code",
   "execution_count": null,
   "id": "a1e8f2cc-0368-4542-999c-d5c395759ba8",
   "metadata": {},
   "outputs": [],
   "source": []
  }
 ],
 "metadata": {
  "kernelspec": {
   "display_name": "Python 3 (ipykernel)",
   "language": "python",
   "name": "python3"
  },
  "language_info": {
   "codemirror_mode": {
    "name": "ipython",
    "version": 3
   },
   "file_extension": ".py",
   "mimetype": "text/x-python",
   "name": "python",
   "nbconvert_exporter": "python",
   "pygments_lexer": "ipython3",
   "version": "3.9.12"
  }
 },
 "nbformat": 4,
 "nbformat_minor": 5
}
