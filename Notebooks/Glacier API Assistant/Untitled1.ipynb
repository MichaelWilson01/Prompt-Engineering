{
 "cells": [
  {
   "cell_type": "code",
   "execution_count": 31,
   "id": "c68797c8-945f-4715-aaa1-aefde2f8a411",
   "metadata": {},
   "outputs": [],
   "source": [
    "# import urllib.request\n",
    "# import json\n",
    "# import pandas as pd\n",
    "\n",
    "# url='https://glacier-api.avax.network/v1/chains'\n",
    "\n",
    "# headers={'User-Agent': 'Mozilla/5.0'}\n",
    "# req = urllib.request.Request(url, method='GET',headers=headers)\n",
    "# response = urllib.request.urlopen(req)#.read()\n",
    "\n",
    "# df = pd.DataFrame.from_dict(json.loads(response.read().decode('UTF-8'))['chains'])\n",
    "\n",
    "# # df"
   ]
  },
  {
   "cell_type": "code",
   "execution_count": 66,
   "id": "eea7de00-c662-4af3-b55d-6facc6c9b7db",
   "metadata": {},
   "outputs": [],
   "source": [
    "import openai\n",
    "import os\n",
    "\n",
    "with open('C:\\\\Users\\\\micha\\\\Desktop\\\\LLM_api_keys\\\\OPENAI_API_KEY.txt') as f:\n",
    "    os.environ['OPENAI_API_KEY'] = f.readlines()[0].strip()\n",
    "\n",
    "openai.organization = \"org-BEHI1MXnPmhI52h3LJBSY8e2\"\n",
    "openai.api_key = os.environ['OPENAI_API_KEY']\n",
    "\n",
    "\n"
   ]
  },
  {
   "cell_type": "code",
   "execution_count": 76,
   "id": "f6d62d92-31c9-487f-aad7-69cdbc9e260b",
   "metadata": {},
   "outputs": [
    {
     "name": "stdout",
     "output_type": "stream",
     "text": [
      "Users will ask you for the chainId of one of the chains included in the Avalanche Blockchain's Glacier API. Your job is to look up the information in the provided csv file, and return the chainId. You will assume a user is asking about a non-test net (isTestnet = False) unless explicitly specified. Find below the chainId csv file;\n",
      "\n",
      ",chainId,chainName,isTestnet\n",
      "\n",
      "0,43114,Avalanche (C-Chain),False\n",
      "\n",
      "1,43113,Avalanche (C-Chain),True\n",
      "\n",
      "2,1,Ethereum,False\n",
      "\n",
      "3,53935,DFK Subnet,False\n",
      "\n",
      "4,335,DFK Subnet,True\n",
      "\n",
      "5,73772,Swimmer Network Subnet,False\n",
      "\n",
      "6,73773,Swimmer Network Subnet,True\n",
      "\n",
      "7,432204,Dexalot Subnet,False\n",
      "\n",
      "8,432201,Dexalot Subnet,True\n",
      "\n",
      "9,262018,Loco Legends Subnet,False\n",
      "\n",
      "10,1995,Loco Legends Subnet,True\n",
      "\n",
      "11,11115,D-Chain,True\n",
      "\n",
      "12,11111,WAGMI Subnet,True\n",
      "\n",
      "13,6765897100,Green Dot Subnet,True\n",
      "\n",
      "\n"
     ]
    }
   ],
   "source": [
    "with open('C:\\\\Users\\\\micha\\\\Documents\\\\GitHub\\\\Other\\\\Prompt Engineering\\\\Glacier API Assistant\\\\chain_id_bot') as f:\n",
    "    job_description = ''.join(f.readlines())\n",
    "    \n",
    "print(job_description)"
   ]
  },
  {
   "cell_type": "code",
   "execution_count": 77,
   "id": "cb1f3ef4-4b93-4f6c-ae84-cb99f434e1e7",
   "metadata": {},
   "outputs": [
    {
     "name": "stdout",
     "output_type": "stream",
     "text": [
      "The chainId for Loco Legends Subnet (LLS) is 262018.\n"
     ]
    }
   ],
   "source": [
    "user_request = 'What is the chainId for LLS?'\n",
    "\n",
    "completion = openai.ChatCompletion.create(\n",
    "        model=\"gpt-3.5-turbo\",\n",
    "        messages=[{\"role\": \"system\", \"content\": job_description},\n",
    "                 {\"role\": \"user\", \"content\": user_request}])\n",
    "\n",
    "print(completion['choices'][0]['message']['content'])"
   ]
  },
  {
   "cell_type": "code",
   "execution_count": 79,
   "id": "369e1fa5-792b-4c4e-a0c2-3bdfa7fb06c4",
   "metadata": {},
   "outputs": [
    {
     "name": "stdout",
     "output_type": "stream",
     "text": [
      "You are part of a natural language interface of the Avalanche blockchain's Glacier API. Users will provide you with a request for information about the Avalanche blockchain, and your job is to construct a step by step process for getting that information using calls to the Glacier API. Please find below a list of GET calls that can be made with the Glacier API. \n",
      "\n",
      "/v1/chains/{chainId}/addresses/{address}/balances:getNative\n",
      "Get native token balance of a wallet address for a given chain.\n",
      "\n",
      "/v1/chains/{chainId}/addresses/{address}/balances:listErc721\n",
      "List Erc-20 token balances of a wallet address for a given chain.\n",
      "\n",
      "/v1/chains/{chainId}/addresses/{address}/balances:listErc721\n",
      "List ERC-721 token balances of a wallet address for a given chain.\n",
      "\n",
      "/v1/chains/{chainId}/addresses/{address}/balances:listErc1155\n",
      "List ERC-1155 token balances of a wallet address for a given chain.\n",
      "\n",
      "/v1/chains/{chainId}/addresses/{address}/balances:listCollectibles\n",
      "List ERC-721 and ERC-1155 token balances of a wallet address for a given chain.\n",
      "\n",
      "/v1/chains/{chainId}/blocks\n",
      "Returns the latest blocks indexed for the chain.\n",
      "\n",
      "/v1/chains/{chainId}/blocks/{blockId}\n",
      "Returns the details of an individual block for the chain.\n",
      "\n",
      "/v1/chains/{chainId}/contracts/{address}/transactions:getDeployment\n",
      "If the address is a smart contract, returns the transaction at which it was deployed.\n",
      "\n",
      "/v1/chains/{chainId}/tokens/{address}/transfers\n",
      "Gets a list of erc transfers for an ERC-20, ERC-721, or ERC-1155 contract address.\n",
      "\n",
      "/v1/chains/{chainId}/addresses/{address}/transactions\n",
      "Gets a list of transactions for an address and chain.\n",
      "\n",
      "/v1/chains/{chainId}/addresses/{address}/transactions:listNative\n",
      "Gets a list of native transactions for an address and chain.\n",
      "\n",
      "/v1/chains/{chainId}/addresses/{address}/transactions:listErc20\n",
      "Lists ERC-20 transfers for an address.\n",
      "\n",
      "/v1/chains/{chainId}/addresses/{address}/transactions:listErc721\n",
      "Lists ERC-721 transfers for an address.\n",
      "\n",
      "/v1/chains/{chainId}/addresses/{address}/transactions:listErc1155\n",
      "Lists of ERC-1155 transfers for an address.\n",
      "\n",
      "/v1/chains/{chainId}/addresses/{address}/transactions:listInternals\n",
      "Lists internal transactions for an address.\n",
      "\n",
      "/v1/chains/{chainId}/transactions/{txHash}\n",
      "Gets the details of a single transaction.\n",
      "\n",
      "/v1/chains/{chainId}/blocks/{blockId}/transactions\n",
      "Gets the transactions that occured in a given block.\n",
      "\n",
      "/v1/chains/{chainId}/transactions\n",
      "Gets the latest transactions; can be filtered by status.\n",
      "\n",
      "/v1/chains\n",
      "Gets the list of chains supported by the api.\n",
      "\n",
      "/v1/chains/{chainId}\n",
      "Gets chain information by chain id.\n",
      "\n"
     ]
    }
   ],
   "source": [
    "with open('C:\\\\Users\\\\micha\\\\Documents\\\\GitHub\\\\Other\\\\Prompt Engineering\\\\Glacier API Assistant\\\\task_organizer_bot.txt') as f:\n",
    "    job_description = ''.join(f.readlines())\n",
    "    \n",
    "print(job_description)"
   ]
  },
  {
   "cell_type": "code",
   "execution_count": 80,
   "id": "f4bd4d9f-9b48-4349-aa37-0fd3ff65ce2e",
   "metadata": {},
   "outputs": [
    {
     "name": "stdout",
     "output_type": "stream",
     "text": [
      "To get the number of transactions included in the most recent block, you can use the following steps:\n",
      "\n",
      "1. Make a GET request to the API endpoint \"/v1/chains/{chainId}/blocks\" to get the latest blocks indexed for the chain. Replace {chainId} with the ID of the Avalanche chain you are interested in.\n",
      "\n",
      "2. The response will contain an array of block objects, ordered by the timestamp of the block. You can get the details of the most recent block by selecting the first element of the array.\n",
      "\n",
      "3. Once you have the details of the most recent block, you can get the number of transactions included in it by looking at the \"numTransactions\" field of the block object.\n",
      "\n",
      "Here's an example API request in cURL:\n",
      "\n",
      "```\n",
      "curl -X GET \\\n",
      "  https://api.avax.network/v1/chains/X/block \\\n",
      "  -H 'Content-Type: application/json' \\\n",
      "  -H 'accept: application/json'\n",
      "```\n",
      "\n",
      "Replace X with the ID of the Avalanche chain you are interested in. The response will be a JSON object containing the details of the most recent block, including the \"numTransactions\" field.\n"
     ]
    }
   ],
   "source": [
    "user_request = 'How many transactions were included in the most recent block?'\n",
    "\n",
    "completion = openai.ChatCompletion.create(\n",
    "        model=\"gpt-3.5-turbo\",\n",
    "        messages=[{\"role\": \"system\", \"content\": job_description},\n",
    "                 {\"role\": \"user\", \"content\": user_request}])\n",
    "\n",
    "print(completion['choices'][0]['message']['content'])"
   ]
  }
 ],
 "metadata": {
  "kernelspec": {
   "display_name": "Python 3 (ipykernel)",
   "language": "python",
   "name": "python3"
  },
  "language_info": {
   "codemirror_mode": {
    "name": "ipython",
    "version": 3
   },
   "file_extension": ".py",
   "mimetype": "text/x-python",
   "name": "python",
   "nbconvert_exporter": "python",
   "pygments_lexer": "ipython3",
   "version": "3.9.12"
  }
 },
 "nbformat": 4,
 "nbformat_minor": 5
}
