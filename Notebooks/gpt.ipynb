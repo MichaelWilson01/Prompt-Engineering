{
 "cells": [
  {
   "cell_type": "code",
   "execution_count": 4,
   "id": "88091bd8-0b64-42f1-bbec-9a6279af5760",
   "metadata": {},
   "outputs": [],
   "source": [
    "import os\n",
    "import openai\n",
    "\n",
    "with open('C:\\\\Users\\\\micha\\\\Desktop\\\\LLM_api_keys\\\\OPENAI_API_KEY.txt') as f:\n",
    "    os.environ['OPENAI_API_KEY'] = f.readlines()[0].strip()\n",
    "    \n",
    "with open('C:\\\\Users\\\\micha\\\\Desktop\\\\LLM_api_keys\\\\GOOGLE_API_KEY.txt') as f:\n",
    "    os.environ['GOOGLE_API_KEY'] = f.readlines()[0].strip()\n",
    "    \n",
    "with open('C:\\\\Users\\\\micha\\\\Desktop\\\\LLM_api_keys\\\\GOOGLE_CSE_ID.txt') as f:\n",
    "    os.environ['GOOGLE_CSE_ID'] = f.readlines()[0].strip()\n",
    "    \n",
    "openai.organization = \"org-BEHI1MXnPmhI52h3LJBSY8e2\"\n",
    "openai.api_key = os.environ['OPENAI_API_KEY'] "
   ]
  },
  {
   "cell_type": "code",
   "execution_count": 5,
   "id": "8a3f5496-83bc-498f-9d77-c107be9bdce0",
   "metadata": {},
   "outputs": [],
   "source": [
    "import os\n",
    "import openai\n",
    "\n",
    "openai.organization = \"org-BEHI1MXnPmhI52h3LJBSY8e2\"\n",
    "openai.api_key = os.environ['OPENAI_API_KEY'] "
   ]
  },
  {
   "cell_type": "code",
   "execution_count": 6,
   "id": "f798ebe2-c79e-4788-82c7-980beb6efcec",
   "metadata": {},
   "outputs": [],
   "source": [
    "def get_response(content, role='user', model=\"gpt-3.5-turbo\"):\n",
    "    completion = openai.ChatCompletion.create(model=model,messages=[{\"role\": role,\"content\": content}])\n",
    "    return completion['choices'][0]['message']['content'], completion\n",
    "    "
   ]
  },
  {
   "cell_type": "code",
   "execution_count": 7,
   "id": "07230079-22ad-46be-9c66-ff31fa6d1f28",
   "metadata": {},
   "outputs": [
    {
     "name": "stdout",
     "output_type": "stream",
     "text": [
      "As an AI language model, I cannot look or test code. However, I can give you some general tips for testing your function call:\n",
      "\n",
      "1. Start with small inputs: Test your function with small inputs to ensure that it is behaving as expected.\n",
      "2. Test edge cases: Make sure your function can handle edge cases such as the maximum and minimum values that it can accept.\n",
      "3. Test with invalid inputs: Test your function with inputs that may not be valid to ensure that it can handle errors and exceptions gracefully.\n",
      "4. Use assertion statements: Use assertion statements to verify the expected output of the function call.\n",
      "\n",
      "These tips will help you test your function call and ensure that it works as expected.\n"
     ]
    }
   ],
   "source": [
    "response, completion = get_response(\"Hi chatGPT, I'm learning about prompt engineering, and I'm testing my first function call! What do you think?\")\n",
    "\n",
    "print(response)"
   ]
  }
 ],
 "metadata": {
  "kernelspec": {
   "display_name": "Python 3 (ipykernel)",
   "language": "python",
   "name": "python3"
  },
  "language_info": {
   "codemirror_mode": {
    "name": "ipython",
    "version": 3
   },
   "file_extension": ".py",
   "mimetype": "text/x-python",
   "name": "python",
   "nbconvert_exporter": "python",
   "pygments_lexer": "ipython3",
   "version": "3.9.12"
  }
 },
 "nbformat": 4,
 "nbformat_minor": 5
}
