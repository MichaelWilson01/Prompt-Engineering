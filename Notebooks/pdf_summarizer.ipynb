{
 "cells": [
  {
   "cell_type": "code",
   "execution_count": 10,
   "id": "05cfcaa1-84c0-417f-b2ba-893af2693a6c",
   "metadata": {},
   "outputs": [],
   "source": [
    "import os\n",
    "import openai\n",
    "import llm_api_keys\n",
    "\n",
    "openai.organization = os.environ['OPENAI_ORGANIZATION']\n",
    "openai.api_key = os.environ['OPENAI_API_KEY'] \n",
    "\n",
    "from langchain import OpenAI, PromptTemplate, LLMChain\n",
    "from langchain.text_splitter import CharacterTextSplitter\n",
    "from langchain.chains.mapreduce import MapReduceChain\n",
    "from langchain.prompts import PromptTemplate\n",
    "\n",
    "llm = OpenAI(temperature=0)\n",
    "\n",
    "text_splitter = CharacterTextSplitter()"
   ]
  },
  {
   "cell_type": "code",
   "execution_count": 11,
   "id": "dc7b5aee-e9b5-4e1f-a4dd-cef21f99509a",
   "metadata": {},
   "outputs": [
    {
     "name": "stdout",
     "output_type": "stream",
     "text": [
      "19\n"
     ]
    }
   ],
   "source": [
    "# importing all the required modules\n",
    "import PyPDF2\n",
    "\n",
    "# creating a pdf reader object\n",
    "reader = PyPDF2.PdfReader('C:\\\\Users\\\\micha\\\\Documents\\\\GitHub\\\\Prompt-Engineering\\\\Resources\\\\2202.12837.pdf')\n",
    "\n",
    "# print the number of pages in pdf file\n",
    "print(len(reader.pages))\n",
    "\n",
    "# print the text of the first page\n",
    "# print(reader.pages[0].extract_text())\n"
   ]
  },
  {
   "cell_type": "code",
   "execution_count": null,
   "id": "0ff7bf94-0e2e-41cf-99fa-9c3d1882172f",
   "metadata": {},
   "outputs": [],
   "source": [
    "# with open(\"../../state_of_the_union.txt\") as f:\n",
    "#     state_of_the_union = f.read()\n",
    "# texts = text_splitter.split_text(state_of_the_union)\n",
    "\n",
    "# from langchain.docstore.document import Document\n",
    "\n",
    "# docs = [Document(page_content=t) for t in texts[:3]]\n",
    "\n",
    "# from langchain.chains.summarize import load_summarize_chain\n"
   ]
  },
  {
   "cell_type": "code",
   "execution_count": 17,
   "id": "578cda12-4ea7-4310-8df3-eec713f79546",
   "metadata": {},
   "outputs": [],
   "source": [
    "doc=\"\"\n",
    "\n",
    "for page in reader.pages:\n",
    "    doc = doc + page.extract_text()\n",
    "    \n",
    "texts = text_splitter.split_text(doc)\n",
    "\n",
    "from langchain.docstore.document import Document\n",
    "\n",
    "docs = [Document(page_content=t) for t in texts[:3]]\n",
    "\n",
    "from langchain.chains.summarize import load_summarize_chain"
   ]
  },
  {
   "cell_type": "code",
   "execution_count": 33,
   "id": "2c42ecdc-90e4-4a41-aa36-2ba97690ce50",
   "metadata": {},
   "outputs": [],
   "source": [
    "docs = [Document(page_content=doc[i:i+4000]) for i in [0,4000,8000,12000,16000]]"
   ]
  },
  {
   "cell_type": "code",
   "execution_count": 34,
   "id": "c2f1aae5-978c-498c-8ad4-c5ef5d8c9e2b",
   "metadata": {},
   "outputs": [
    {
     "data": {
      "text/plain": [
       "' This paper investigates the role of demonstrations in in-context learning, a type of inference used by large language models. Results show that ground truth demonstrations are not required for effective in-context learning, as randomly replacing labels in the demonstrations barely affects performance. Further analysis reveals that the label space, distribution of the input text, and overall format of the sequence are key drivers of end task performance. Ablation studies showed that model performance was fairly insensitive to the number of correct labels, and that using incorrect labels significantly outperformed not using any demonstrations.'"
      ]
     },
     "execution_count": 34,
     "metadata": {},
     "output_type": "execute_result"
    }
   ],
   "source": [
    "chain = load_summarize_chain(llm, chain_type=\"map_reduce\")\n",
    "chain.run(docs)"
   ]
  }
 ],
 "metadata": {
  "kernelspec": {
   "display_name": "Python 3 (ipykernel)",
   "language": "python",
   "name": "python3"
  },
  "language_info": {
   "codemirror_mode": {
    "name": "ipython",
    "version": 3
   },
   "file_extension": ".py",
   "mimetype": "text/x-python",
   "name": "python",
   "nbconvert_exporter": "python",
   "pygments_lexer": "ipython3",
   "version": "3.9.12"
  }
 },
 "nbformat": 4,
 "nbformat_minor": 5
}
